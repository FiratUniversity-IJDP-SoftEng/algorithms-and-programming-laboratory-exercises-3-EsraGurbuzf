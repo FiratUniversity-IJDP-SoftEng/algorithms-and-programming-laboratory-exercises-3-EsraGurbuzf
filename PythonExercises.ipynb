{
 "cells": [
  {
   "cell_type": "markdown",
   "metadata": {},
   "source": [
    "# Algorithms and Programming\n",
    "# Exercise Notebook (Intermediate Level)\n",
    "\n",
    "### Name:  Esra Gurbuz\n",
    "### Student ID: 230543001\n",
    "### Date: 04.06.2025\n",
    "\n"
   ]
  },
  {
   "cell_type": "markdown",
   "metadata": {},
   "source": [
    "\n",
    "# Question 1\n",
    "### Write a Python function `is_prime` that determines if the given integer is a prime number.\n",
    "\n",
    "### Test your function\n",
    "```python\n",
    "print(is_prime(11))  # Expected output: True\n",
    "print(is_prime(15))  # Expected output: False\n",
    "```\n",
    "\n"
   ]
  },
  {
   "cell_type": "code",
   "execution_count": 21,
   "metadata": {},
   "outputs": [
    {
     "name": "stdout",
     "output_type": "stream",
     "text": [
      "True\n"
     ]
    }
   ],
   "source": [
    "# Your solution here\n",
    "import math\n",
    "def is_prime(value):\n",
    "    if value < 2:\n",
    "        return False\n",
    "    for i in range(2, int(math.sqrt(value)) + 1):\n",
    "        if value % i == 0:\n",
    "                return False\n",
    "    return True\n",
    "\n",
    "value = int(input(\"Enter a value: \"))\n",
    "if is_prime(value):\n",
    "     print(True)\n",
    "else:\n",
    "     print(False)\n"
   ]
  },
  {
   "cell_type": "markdown",
   "metadata": {},
   "source": [
    "# Question 2\n",
    "### Write a Python function `gcd` that calculates the greatest common divisor of two integers using the Euclidean algorithm.\n",
    "\n",
    "### Test your function\n",
    "```python\n",
    "print(gcd(48, 18))  # Expected output: 6\n",
    "print(gcd(100, 25))  # Expected output: 25\n",
    "```"
   ]
  },
  {
   "cell_type": "code",
   "execution_count": null,
   "metadata": {},
   "outputs": [
    {
     "name": "stdout",
     "output_type": "stream",
     "text": [
      "25\n"
     ]
    }
   ],
   "source": [
    "# Your solution here\n",
    "def gcd(firstvalue, secondvalue):\n",
    "    if firstvalue > secondvalue:\n",
    "        x = firstvalue\n",
    "        y = secondvalue\n",
    "    else:\n",
    "        x = secondvalue\n",
    "        y = firstvalue\n",
    "    result = 1\n",
    "    for i in range(1, y + 1):\n",
    "        if x % i == 0 and y % i == 0:\n",
    "            result = i\n",
    "    return result\n",
    "\n",
    "firstvalue = int(input(\"Enter a value: \"))\n",
    "secondvalue = int(input(\"Enter an another value: \"))\n",
    "\n",
    "print(gcd(firstvalue, secondvalue))\n",
    "\n",
    "# For Eclidean algorithm \n",
    "# I look from chatGPT \n",
    "'''\n",
    "def gcd(firstvalue, secondvalue):\n",
    "    while secondvalue != 0:\n",
    "        firstvalue, secondvalue = secondvalue, firstvalue % secondvalue\n",
    "    return firstvalue\n",
    "'''"
   ]
  },
  {
   "cell_type": "markdown",
   "metadata": {},
   "source": [
    "# Question 3\n",
    "### Write a Python function `count_vowels` that takes a string as input and returns the count of vowels (a, e, i, o, u) in the string.\n",
    "\n",
    "### Test your function\n",
    "```python\n",
    "print(count_vowels(\"intermediate\"))  # Expected output: 5\n",
    "print(count_vowels(\"algorithm\"))  # Expected output: 3\n",
    "```"
   ]
  },
  {
   "cell_type": "code",
   "execution_count": 9,
   "metadata": {},
   "outputs": [
    {
     "name": "stdout",
     "output_type": "stream",
     "text": [
      "3\n"
     ]
    }
   ],
   "source": [
    "# Your solution here\n",
    "def count_vowels(enteredstring):\n",
    "    vowellist = [\"a\", \"e\", \"i\", \"o\", \"u\"]\n",
    "    count = 0\n",
    "    for ch in enteredstring.lower():\n",
    "        if ch in vowellist:\n",
    "            count += 1\n",
    "    return count\n",
    "\n",
    "enteredstring = input(\"Enter a word: \")\n",
    "print(count_vowels(enteredstring))"
   ]
  },
  {
   "cell_type": "markdown",
   "metadata": {},
   "source": [
    "# Question 4\n",
    "### Write a Python function `merge_sorted_lists` that merges two sorted lists into a single sorted list without using built-in sort functions.\n",
    "\n",
    "### Test your function\n",
    "```python\n",
    "print(merge_sorted_lists([1, 3, 5], [2, 4, 6]))  # Expected output: [1, 2, 3, 4, 5, 6]\n",
    "print(merge_sorted_lists([-3, 0, 7], [-1, 4, 10]))  # Expected output: [-3, -1, 0, 4, 7, 10]\n",
    "```\n"
   ]
  },
  {
   "cell_type": "code",
   "execution_count": 20,
   "metadata": {},
   "outputs": [
    {
     "name": "stdout",
     "output_type": "stream",
     "text": [
      "First list :  [1, 4, 7]\n",
      "Second list :  [2, 5, 8]\n",
      "Merge sorted list:  [1, 2, 4, 5, 7, 8]\n"
     ]
    }
   ],
   "source": [
    "# Your solution here\n",
    "def merge_sorted_lists(firstlist, secondlist):\n",
    "    totallist = firstlist + secondlist\n",
    "    totallist.sort()\n",
    "    return totallist\n",
    "\n",
    "def firstlist(x, y, z):\n",
    "    if x < y:\n",
    "        lesser = x\n",
    "        greater = y\n",
    "    else: \n",
    "        greater = x\n",
    "        lesser = y\n",
    "    if z > greater:\n",
    "            medium = greater\n",
    "            greater = z\n",
    "    elif z < lesser:\n",
    "          medium = lesser\n",
    "          lesser = z\n",
    "    else:\n",
    "             medium = z\n",
    "\n",
    "    return [lesser, medium, greater]\n",
    "\n",
    "#for firstlist\n",
    "x = int(input(\"Enter a value: \"))\n",
    "y = int(input(\"Enter a value: \"))\n",
    "z = int(input(\"Enter a value: \"))\n",
    "first_sorted = firstlist(x, y, z)\n",
    "print(\"First list : \", firstlist(x, y, z))\n",
    "\n",
    "def secondlist(k, l, m):\n",
    "    if k > l:\n",
    "        k, l = l, k\n",
    "    if k > m:\n",
    "        k, m = m, k\n",
    "    if l > m:\n",
    "        l, m = m, l\n",
    "    return [k, l, m]\n",
    "\n",
    "#for secondlist\n",
    "k = int(input(\"Enter a value: \"))\n",
    "l = int(input(\"Enter a value: \"))\n",
    "m = int(input(\"Enter a value: \"))\n",
    "second_sorted = secondlist(k, l, m)\n",
    "print(\"Second list : \", secondlist(k, l, m))\n",
    "\n",
    "merge_sorted = merge_sorted_lists(first_sorted, second_sorted)\n",
    "\n",
    "print(\"Merge sorted list: \", merge_sorted)\n"
   ]
  },
  {
   "cell_type": "markdown",
   "metadata": {},
   "source": [
    "# Question 5\n",
    "### Write a Python function `binary_search` that implements the binary search algorithm on a sorted list and returns the index of the element if found, or -1 if not found.\n",
    "\n",
    "### Test your function\n",
    "```python\n",
    "print(binary_search([1, 3, 5, 7, 9, 11], 7))  # Expected output: 3\n",
    "print(binary_search([2, 4, 6, 8, 10], 5))  # Expected output: -1\n",
    "```"
   ]
  },
  {
   "cell_type": "code",
   "execution_count": 2,
   "metadata": {},
   "outputs": [
    {
     "name": "stdout",
     "output_type": "stream",
     "text": [
      "3\n",
      "-1\n"
     ]
    }
   ],
   "source": [
    "# Your solution here\n",
    "def binary_search(ourlist, value):\n",
    "    ourlist.sort()\n",
    "    down = 0\n",
    "    up = len(ourlist) - 1\n",
    "    \n",
    "    while down <= up:\n",
    "        mid = (down + up) // 2\n",
    "        if ourlist[mid] == value:\n",
    "            return mid\n",
    "        elif ourlist[mid] < value:\n",
    "            down = mid + 1\n",
    "        else:\n",
    "            up = mid - 1\n",
    "    return -1\n",
    "\n",
    "print(binary_search([1, 3, 5, 7, 9, 11], 7))\n",
    "print(binary_search([2, 4, 6, 8, 10], 5)) \n"
   ]
  },
  {
   "cell_type": "markdown",
   "metadata": {},
   "source": []
  }
 ],
 "metadata": {
  "kernelspec": {
   "display_name": "base",
   "language": "python",
   "name": "python3"
  },
  "language_info": {
   "codemirror_mode": {
    "name": "ipython",
    "version": 3
   },
   "file_extension": ".py",
   "mimetype": "text/x-python",
   "name": "python",
   "nbconvert_exporter": "python",
   "pygments_lexer": "ipython3",
   "version": "3.12.9"
  }
 },
 "nbformat": 4,
 "nbformat_minor": 2
}
